{
  "nbformat": 4,
  "nbformat_minor": 0,
  "metadata": {
    "colab": {
      "name": "Treating Outliers.ipynb",
      "provenance": [],
      "authorship_tag": "ABX9TyNxpwDIWImmVoCXQUQ583HD",
      "include_colab_link": true
    },
    "kernelspec": {
      "name": "python3",
      "display_name": "Python 3"
    },
    "language_info": {
      "name": "python"
    }
  },
  "cells": [
    {
      "cell_type": "markdown",
      "metadata": {
        "id": "view-in-github",
        "colab_type": "text"
      },
      "source": [
        "<a href=\"https://colab.research.google.com/github/RemyaRS/Feature-Engineering/blob/main/Treating_Outliers.ipynb\" target=\"_parent\"><img src=\"https://colab.research.google.com/assets/colab-badge.svg\" alt=\"Open In Colab\"/></a>"
      ]
    },
    {
      "cell_type": "markdown",
      "source": [
        "#Import Libraries needed"
      ],
      "metadata": {
        "id": "vNiVMl8o7GtM"
      }
    },
    {
      "cell_type": "code",
      "source": [
        "import numpy as np\n",
        "import pandas as pd\n",
        "import seaborn as sns\n",
        "import matplotlib.pyplot as plt"
      ],
      "metadata": {
        "id": "wQg-h8j97HLn"
      },
      "execution_count": 16,
      "outputs": []
    },
    {
      "cell_type": "markdown",
      "source": [
        "#Using google drive to import dataset"
      ],
      "metadata": {
        "id": "4ym9WKRDMsbe"
      }
    },
    {
      "cell_type": "code",
      "source": [
        "from google.colab import drive\n",
        "drive.mount('/content/drive')"
      ],
      "metadata": {
        "colab": {
          "base_uri": "https://localhost:8080/"
        },
        "id": "i1JgvLONLvJn",
        "outputId": "79f00adc-57df-42cc-a13a-be979b931e48"
      },
      "execution_count": 17,
      "outputs": [
        {
          "output_type": "stream",
          "name": "stdout",
          "text": [
            "Drive already mounted at /content/drive; to attempt to forcibly remount, call drive.mount(\"/content/drive\", force_remount=True).\n"
          ]
        }
      ]
    },
    {
      "cell_type": "markdown",
      "source": [
        "#Importing dataset from google drive"
      ],
      "metadata": {
        "id": "aQPQIlK8M5JP"
      }
    },
    {
      "cell_type": "markdown",
      "source": [
        "Source : https://www.kaggle.com/datasets/shrutimehta/zomato-restaurants-data"
      ],
      "metadata": {
        "id": "lovDePRfXrAD"
      }
    },
    {
      "cell_type": "code",
      "source": [
        "data = pd.read_csv(\"/content/drive/MyDrive/zomato.csv\", encoding='latin-1')\n",
        "data.head()"
      ],
      "metadata": {
        "colab": {
          "base_uri": "https://localhost:8080/",
          "height": 855
        },
        "id": "kGfB5UkyUw8W",
        "outputId": "aea40748-d106-4a43-f944-f4051b944fd6"
      },
      "execution_count": 18,
      "outputs": [
        {
          "output_type": "execute_result",
          "data": {
            "text/plain": [
              "   Restaurant ID         Restaurant Name  Country Code              City  \\\n",
              "0        6317637        Le Petit Souffle           162       Makati City   \n",
              "1        6304287        Izakaya Kikufuji           162       Makati City   \n",
              "2        6300002  Heat - Edsa Shangri-La           162  Mandaluyong City   \n",
              "3        6318506                    Ooma           162  Mandaluyong City   \n",
              "4        6314302             Sambo Kojin           162  Mandaluyong City   \n",
              "\n",
              "                                             Address  \\\n",
              "0  Third Floor, Century City Mall, Kalayaan Avenu...   \n",
              "1  Little Tokyo, 2277 Chino Roces Avenue, Legaspi...   \n",
              "2  Edsa Shangri-La, 1 Garden Way, Ortigas, Mandal...   \n",
              "3  Third Floor, Mega Fashion Hall, SM Megamall, O...   \n",
              "4  Third Floor, Mega Atrium, SM Megamall, Ortigas...   \n",
              "\n",
              "                                     Locality  \\\n",
              "0   Century City Mall, Poblacion, Makati City   \n",
              "1  Little Tokyo, Legaspi Village, Makati City   \n",
              "2  Edsa Shangri-La, Ortigas, Mandaluyong City   \n",
              "3      SM Megamall, Ortigas, Mandaluyong City   \n",
              "4      SM Megamall, Ortigas, Mandaluyong City   \n",
              "\n",
              "                                    Locality Verbose   Longitude   Latitude  \\\n",
              "0  Century City Mall, Poblacion, Makati City, Mak...  121.027535  14.565443   \n",
              "1  Little Tokyo, Legaspi Village, Makati City, Ma...  121.014101  14.553708   \n",
              "2  Edsa Shangri-La, Ortigas, Mandaluyong City, Ma...  121.056831  14.581404   \n",
              "3  SM Megamall, Ortigas, Mandaluyong City, Mandal...  121.056475  14.585318   \n",
              "4  SM Megamall, Ortigas, Mandaluyong City, Mandal...  121.057508  14.584450   \n",
              "\n",
              "                           Cuisines  ...          Currency Has Table booking  \\\n",
              "0        French, Japanese, Desserts  ...  Botswana Pula(P)               Yes   \n",
              "1                          Japanese  ...  Botswana Pula(P)               Yes   \n",
              "2  Seafood, Asian, Filipino, Indian  ...  Botswana Pula(P)               Yes   \n",
              "3                   Japanese, Sushi  ...  Botswana Pula(P)                No   \n",
              "4                  Japanese, Korean  ...  Botswana Pula(P)               Yes   \n",
              "\n",
              "  Has Online delivery Is delivering now Switch to order menu Price range  \\\n",
              "0                  No                No                   No           3   \n",
              "1                  No                No                   No           3   \n",
              "2                  No                No                   No           4   \n",
              "3                  No                No                   No           4   \n",
              "4                  No                No                   No           4   \n",
              "\n",
              "   Aggregate rating  Rating color Rating text Votes  \n",
              "0               4.8    Dark Green   Excellent   314  \n",
              "1               4.5    Dark Green   Excellent   591  \n",
              "2               4.4         Green   Very Good   270  \n",
              "3               4.9    Dark Green   Excellent   365  \n",
              "4               4.8    Dark Green   Excellent   229  \n",
              "\n",
              "[5 rows x 21 columns]"
            ],
            "text/html": [
              "\n",
              "  <div id=\"df-f17d1446-7a1b-4b6b-a897-a581ef6fae92\">\n",
              "    <div class=\"colab-df-container\">\n",
              "      <div>\n",
              "<style scoped>\n",
              "    .dataframe tbody tr th:only-of-type {\n",
              "        vertical-align: middle;\n",
              "    }\n",
              "\n",
              "    .dataframe tbody tr th {\n",
              "        vertical-align: top;\n",
              "    }\n",
              "\n",
              "    .dataframe thead th {\n",
              "        text-align: right;\n",
              "    }\n",
              "</style>\n",
              "<table border=\"1\" class=\"dataframe\">\n",
              "  <thead>\n",
              "    <tr style=\"text-align: right;\">\n",
              "      <th></th>\n",
              "      <th>Restaurant ID</th>\n",
              "      <th>Restaurant Name</th>\n",
              "      <th>Country Code</th>\n",
              "      <th>City</th>\n",
              "      <th>Address</th>\n",
              "      <th>Locality</th>\n",
              "      <th>Locality Verbose</th>\n",
              "      <th>Longitude</th>\n",
              "      <th>Latitude</th>\n",
              "      <th>Cuisines</th>\n",
              "      <th>...</th>\n",
              "      <th>Currency</th>\n",
              "      <th>Has Table booking</th>\n",
              "      <th>Has Online delivery</th>\n",
              "      <th>Is delivering now</th>\n",
              "      <th>Switch to order menu</th>\n",
              "      <th>Price range</th>\n",
              "      <th>Aggregate rating</th>\n",
              "      <th>Rating color</th>\n",
              "      <th>Rating text</th>\n",
              "      <th>Votes</th>\n",
              "    </tr>\n",
              "  </thead>\n",
              "  <tbody>\n",
              "    <tr>\n",
              "      <th>0</th>\n",
              "      <td>6317637</td>\n",
              "      <td>Le Petit Souffle</td>\n",
              "      <td>162</td>\n",
              "      <td>Makati City</td>\n",
              "      <td>Third Floor, Century City Mall, Kalayaan Avenu...</td>\n",
              "      <td>Century City Mall, Poblacion, Makati City</td>\n",
              "      <td>Century City Mall, Poblacion, Makati City, Mak...</td>\n",
              "      <td>121.027535</td>\n",
              "      <td>14.565443</td>\n",
              "      <td>French, Japanese, Desserts</td>\n",
              "      <td>...</td>\n",
              "      <td>Botswana Pula(P)</td>\n",
              "      <td>Yes</td>\n",
              "      <td>No</td>\n",
              "      <td>No</td>\n",
              "      <td>No</td>\n",
              "      <td>3</td>\n",
              "      <td>4.8</td>\n",
              "      <td>Dark Green</td>\n",
              "      <td>Excellent</td>\n",
              "      <td>314</td>\n",
              "    </tr>\n",
              "    <tr>\n",
              "      <th>1</th>\n",
              "      <td>6304287</td>\n",
              "      <td>Izakaya Kikufuji</td>\n",
              "      <td>162</td>\n",
              "      <td>Makati City</td>\n",
              "      <td>Little Tokyo, 2277 Chino Roces Avenue, Legaspi...</td>\n",
              "      <td>Little Tokyo, Legaspi Village, Makati City</td>\n",
              "      <td>Little Tokyo, Legaspi Village, Makati City, Ma...</td>\n",
              "      <td>121.014101</td>\n",
              "      <td>14.553708</td>\n",
              "      <td>Japanese</td>\n",
              "      <td>...</td>\n",
              "      <td>Botswana Pula(P)</td>\n",
              "      <td>Yes</td>\n",
              "      <td>No</td>\n",
              "      <td>No</td>\n",
              "      <td>No</td>\n",
              "      <td>3</td>\n",
              "      <td>4.5</td>\n",
              "      <td>Dark Green</td>\n",
              "      <td>Excellent</td>\n",
              "      <td>591</td>\n",
              "    </tr>\n",
              "    <tr>\n",
              "      <th>2</th>\n",
              "      <td>6300002</td>\n",
              "      <td>Heat - Edsa Shangri-La</td>\n",
              "      <td>162</td>\n",
              "      <td>Mandaluyong City</td>\n",
              "      <td>Edsa Shangri-La, 1 Garden Way, Ortigas, Mandal...</td>\n",
              "      <td>Edsa Shangri-La, Ortigas, Mandaluyong City</td>\n",
              "      <td>Edsa Shangri-La, Ortigas, Mandaluyong City, Ma...</td>\n",
              "      <td>121.056831</td>\n",
              "      <td>14.581404</td>\n",
              "      <td>Seafood, Asian, Filipino, Indian</td>\n",
              "      <td>...</td>\n",
              "      <td>Botswana Pula(P)</td>\n",
              "      <td>Yes</td>\n",
              "      <td>No</td>\n",
              "      <td>No</td>\n",
              "      <td>No</td>\n",
              "      <td>4</td>\n",
              "      <td>4.4</td>\n",
              "      <td>Green</td>\n",
              "      <td>Very Good</td>\n",
              "      <td>270</td>\n",
              "    </tr>\n",
              "    <tr>\n",
              "      <th>3</th>\n",
              "      <td>6318506</td>\n",
              "      <td>Ooma</td>\n",
              "      <td>162</td>\n",
              "      <td>Mandaluyong City</td>\n",
              "      <td>Third Floor, Mega Fashion Hall, SM Megamall, O...</td>\n",
              "      <td>SM Megamall, Ortigas, Mandaluyong City</td>\n",
              "      <td>SM Megamall, Ortigas, Mandaluyong City, Mandal...</td>\n",
              "      <td>121.056475</td>\n",
              "      <td>14.585318</td>\n",
              "      <td>Japanese, Sushi</td>\n",
              "      <td>...</td>\n",
              "      <td>Botswana Pula(P)</td>\n",
              "      <td>No</td>\n",
              "      <td>No</td>\n",
              "      <td>No</td>\n",
              "      <td>No</td>\n",
              "      <td>4</td>\n",
              "      <td>4.9</td>\n",
              "      <td>Dark Green</td>\n",
              "      <td>Excellent</td>\n",
              "      <td>365</td>\n",
              "    </tr>\n",
              "    <tr>\n",
              "      <th>4</th>\n",
              "      <td>6314302</td>\n",
              "      <td>Sambo Kojin</td>\n",
              "      <td>162</td>\n",
              "      <td>Mandaluyong City</td>\n",
              "      <td>Third Floor, Mega Atrium, SM Megamall, Ortigas...</td>\n",
              "      <td>SM Megamall, Ortigas, Mandaluyong City</td>\n",
              "      <td>SM Megamall, Ortigas, Mandaluyong City, Mandal...</td>\n",
              "      <td>121.057508</td>\n",
              "      <td>14.584450</td>\n",
              "      <td>Japanese, Korean</td>\n",
              "      <td>...</td>\n",
              "      <td>Botswana Pula(P)</td>\n",
              "      <td>Yes</td>\n",
              "      <td>No</td>\n",
              "      <td>No</td>\n",
              "      <td>No</td>\n",
              "      <td>4</td>\n",
              "      <td>4.8</td>\n",
              "      <td>Dark Green</td>\n",
              "      <td>Excellent</td>\n",
              "      <td>229</td>\n",
              "    </tr>\n",
              "  </tbody>\n",
              "</table>\n",
              "<p>5 rows × 21 columns</p>\n",
              "</div>\n",
              "      <button class=\"colab-df-convert\" onclick=\"convertToInteractive('df-f17d1446-7a1b-4b6b-a897-a581ef6fae92')\"\n",
              "              title=\"Convert this dataframe to an interactive table.\"\n",
              "              style=\"display:none;\">\n",
              "        \n",
              "  <svg xmlns=\"http://www.w3.org/2000/svg\" height=\"24px\"viewBox=\"0 0 24 24\"\n",
              "       width=\"24px\">\n",
              "    <path d=\"M0 0h24v24H0V0z\" fill=\"none\"/>\n",
              "    <path d=\"M18.56 5.44l.94 2.06.94-2.06 2.06-.94-2.06-.94-.94-2.06-.94 2.06-2.06.94zm-11 1L8.5 8.5l.94-2.06 2.06-.94-2.06-.94L8.5 2.5l-.94 2.06-2.06.94zm10 10l.94 2.06.94-2.06 2.06-.94-2.06-.94-.94-2.06-.94 2.06-2.06.94z\"/><path d=\"M17.41 7.96l-1.37-1.37c-.4-.4-.92-.59-1.43-.59-.52 0-1.04.2-1.43.59L10.3 9.45l-7.72 7.72c-.78.78-.78 2.05 0 2.83L4 21.41c.39.39.9.59 1.41.59.51 0 1.02-.2 1.41-.59l7.78-7.78 2.81-2.81c.8-.78.8-2.07 0-2.86zM5.41 20L4 18.59l7.72-7.72 1.47 1.35L5.41 20z\"/>\n",
              "  </svg>\n",
              "      </button>\n",
              "      \n",
              "  <style>\n",
              "    .colab-df-container {\n",
              "      display:flex;\n",
              "      flex-wrap:wrap;\n",
              "      gap: 12px;\n",
              "    }\n",
              "\n",
              "    .colab-df-convert {\n",
              "      background-color: #E8F0FE;\n",
              "      border: none;\n",
              "      border-radius: 50%;\n",
              "      cursor: pointer;\n",
              "      display: none;\n",
              "      fill: #1967D2;\n",
              "      height: 32px;\n",
              "      padding: 0 0 0 0;\n",
              "      width: 32px;\n",
              "    }\n",
              "\n",
              "    .colab-df-convert:hover {\n",
              "      background-color: #E2EBFA;\n",
              "      box-shadow: 0px 1px 2px rgba(60, 64, 67, 0.3), 0px 1px 3px 1px rgba(60, 64, 67, 0.15);\n",
              "      fill: #174EA6;\n",
              "    }\n",
              "\n",
              "    [theme=dark] .colab-df-convert {\n",
              "      background-color: #3B4455;\n",
              "      fill: #D2E3FC;\n",
              "    }\n",
              "\n",
              "    [theme=dark] .colab-df-convert:hover {\n",
              "      background-color: #434B5C;\n",
              "      box-shadow: 0px 1px 3px 1px rgba(0, 0, 0, 0.15);\n",
              "      filter: drop-shadow(0px 1px 2px rgba(0, 0, 0, 0.3));\n",
              "      fill: #FFFFFF;\n",
              "    }\n",
              "  </style>\n",
              "\n",
              "      <script>\n",
              "        const buttonEl =\n",
              "          document.querySelector('#df-f17d1446-7a1b-4b6b-a897-a581ef6fae92 button.colab-df-convert');\n",
              "        buttonEl.style.display =\n",
              "          google.colab.kernel.accessAllowed ? 'block' : 'none';\n",
              "\n",
              "        async function convertToInteractive(key) {\n",
              "          const element = document.querySelector('#df-f17d1446-7a1b-4b6b-a897-a581ef6fae92');\n",
              "          const dataTable =\n",
              "            await google.colab.kernel.invokeFunction('convertToInteractive',\n",
              "                                                     [key], {});\n",
              "          if (!dataTable) return;\n",
              "\n",
              "          const docLinkHtml = 'Like what you see? Visit the ' +\n",
              "            '<a target=\"_blank\" href=https://colab.research.google.com/notebooks/data_table.ipynb>data table notebook</a>'\n",
              "            + ' to learn more about interactive tables.';\n",
              "          element.innerHTML = '';\n",
              "          dataTable['output_type'] = 'display_data';\n",
              "          await google.colab.output.renderOutput(dataTable, element);\n",
              "          const docLink = document.createElement('div');\n",
              "          docLink.innerHTML = docLinkHtml;\n",
              "          element.appendChild(docLink);\n",
              "        }\n",
              "      </script>\n",
              "    </div>\n",
              "  </div>\n",
              "  "
            ]
          },
          "metadata": {},
          "execution_count": 18
        }
      ]
    },
    {
      "cell_type": "markdown",
      "source": [
        "#Finding all numerical and categorical features present in the dataset "
      ],
      "metadata": {
        "id": "cYNDDy8TZcm3"
      }
    },
    {
      "cell_type": "code",
      "source": [
        "from sklearn.compose import make_column_selector\n",
        "        \n",
        "cat_cols = make_column_selector(dtype_include=object) (data)\n",
        "print ('Categorical Feature Variables are', cat_cols)\n",
        "## or\n",
        "num_selector = make_column_selector(dtype_include=np.number)\n",
        "num_cols = num_selector (data)\n",
        "print ('Numerical Feature Variables are', num_cols) "
      ],
      "metadata": {
        "colab": {
          "base_uri": "https://localhost:8080/"
        },
        "id": "XbQnlX4BY4c3",
        "outputId": "2f04b018-6903-47c7-8911-48dd17b42569"
      },
      "execution_count": 19,
      "outputs": [
        {
          "output_type": "stream",
          "name": "stdout",
          "text": [
            "Categorical Feature Variables are ['Restaurant Name', 'City', 'Address', 'Locality', 'Locality Verbose', 'Cuisines', 'Currency', 'Has Table booking', 'Has Online delivery', 'Is delivering now', 'Switch to order menu', 'Rating color', 'Rating text']\n",
            "Numerical Feature Variables are ['Restaurant ID', 'Country Code', 'Longitude', 'Latitude', 'Average Cost for two', 'Price range', 'Aggregate rating', 'Votes']\n"
          ]
        }
      ]
    },
    {
      "cell_type": "markdown",
      "source": [
        "# Check whether there is any outlier using boxplot"
      ],
      "metadata": {
        "id": "S5MFoGPbanap"
      }
    },
    {
      "cell_type": "code",
      "source": [
        "sns.boxplot(data['Price range'])"
      ],
      "metadata": {
        "id": "IKvCKUN4apg1",
        "colab": {
          "base_uri": "https://localhost:8080/",
          "height": 351
        },
        "outputId": "394f7d6e-0b4c-4725-9f39-90aa619bb401"
      },
      "execution_count": 20,
      "outputs": [
        {
          "output_type": "stream",
          "name": "stderr",
          "text": [
            "/usr/local/lib/python3.7/dist-packages/seaborn/_decorators.py:43: FutureWarning: Pass the following variable as a keyword arg: x. From version 0.12, the only valid positional argument will be `data`, and passing other arguments without an explicit keyword will result in an error or misinterpretation.\n",
            "  FutureWarning\n"
          ]
        },
        {
          "output_type": "execute_result",
          "data": {
            "text/plain": [
              "<matplotlib.axes._subplots.AxesSubplot at 0x7fa370187510>"
            ]
          },
          "metadata": {},
          "execution_count": 20
        },
        {
          "output_type": "display_data",
          "data": {
            "text/plain": [
              "<Figure size 432x288 with 1 Axes>"
            ],
            "image/png": "[encoded data removed]"
          },
          "metadata": {
            "needs_background": "light"
          }
        }
      ]
    },
    {
      "cell_type": "code",
      "source": [
        "Q1 = data['Price range'].quantile(0.25)\n",
        "Q3 = data['Price range'].quantile(0.75)\n",
        "IQR = Q3 - Q1\n",
        "upper_limit = Q3 + 1.5 * IQR\n",
        "lower_limit = Q1 - 1.5 * IQR"
      ],
      "metadata": {
        "id": "UcH3H9CDpJlY"
      },
      "execution_count": 21,
      "outputs": []
    },
    {
      "cell_type": "code",
      "source": [
        "print(\"Upper limit of Price range is : \", upper_limit)\n",
        "print(\"Lower limit of Price range is : \", lower_limit)"
      ],
      "metadata": {
        "colab": {
          "base_uri": "https://localhost:8080/"
        },
        "id": "GcOLTNvFqGoU",
        "outputId": "2d31f49f-041c-4e4f-fd20-e78cab2d3e60"
      },
      "execution_count": 22,
      "outputs": [
        {
          "output_type": "stream",
          "name": "stdout",
          "text": [
            "Upper limit of Price range is :  3.5\n",
            "Lower limit of Price range is :  -0.5\n"
          ]
        }
      ]
    },
    {
      "cell_type": "markdown",
      "source": [
        "#Ways to treat Outliers\n",
        "\n",
        "### (i) Removing Outliers"
      ],
      "metadata": {
        "id": "1zorRTfGq3it"
      }
    },
    {
      "cell_type": "code",
      "source": [
        "outlier_values = np.where(data['Price range'] > upper_limit, True, np.where(data['Price range'] < lower_limit, True, False))"
      ],
      "metadata": {
        "id": "ihJAspH1qswZ"
      },
      "execution_count": 23,
      "outputs": []
    },
    {
      "cell_type": "code",
      "source": [
        "new_data = data.iloc[~(outlier_values)]"
      ],
      "metadata": {
        "id": "sinsGSIIs_tv"
      },
      "execution_count": 24,
      "outputs": []
    },
    {
      "cell_type": "code",
      "source": [
        "sns.boxplot(new_data['Price range'])"
      ],
      "metadata": {
        "colab": {
          "base_uri": "https://localhost:8080/",
          "height": 351
        },
        "id": "z99eVKcQtPKz",
        "outputId": "9a8bc031-446d-4102-e2fb-4f2e5d8e02a7"
      },
      "execution_count": 25,
      "outputs": [
        {
          "output_type": "stream",
          "name": "stderr",
          "text": [
            "/usr/local/lib/python3.7/dist-packages/seaborn/_decorators.py:43: FutureWarning: Pass the following variable as a keyword arg: x. From version 0.12, the only valid positional argument will be `data`, and passing other arguments without an explicit keyword will result in an error or misinterpretation.\n",
            "  FutureWarning\n"
          ]
        },
        {
          "output_type": "execute_result",
          "data": {
            "text/plain": [
              "<matplotlib.axes._subplots.AxesSubplot at 0x7fa3700f0250>"
            ]
          },
          "metadata": {},
          "execution_count": 25
        },
        {
          "output_type": "display_data",
          "data": {
            "text/plain": [
              "<Figure size 432x288 with 1 Axes>"
            ],
            "image/png": "[encoded data removed]"
          },
          "metadata": {
            "needs_background": "light"
          }
        }
      ]
    },
    {
      "cell_type": "code",
      "source": [
        "data.shape"
      ],
      "metadata": {
        "colab": {
          "base_uri": "https://localhost:8080/"
        },
        "id": "J-zl8NI5yOzi",
        "outputId": "8203d824-a450-49c7-cfca-16c02716f36e"
      },
      "execution_count": 26,
      "outputs": [
        {
          "output_type": "execute_result",
          "data": {
            "text/plain": [
              "(9551, 21)"
            ]
          },
          "metadata": {},
          "execution_count": 26
        }
      ]
    },
    {
      "cell_type": "code",
      "source": [
        "new_data.shape"
      ],
      "metadata": {
        "colab": {
          "base_uri": "https://localhost:8080/"
        },
        "id": "8raSwmRkySgm",
        "outputId": "ed4f1c86-cde5-45a6-b111-3f2831319f2d"
      },
      "execution_count": 27,
      "outputs": [
        {
          "output_type": "execute_result",
          "data": {
            "text/plain": [
              "(8965, 21)"
            ]
          },
          "metadata": {},
          "execution_count": 27
        }
      ]
    },
    {
      "cell_type": "markdown",
      "source": [
        "### (ii) Capping Upper & Lower Limit of the Feature Variable\n",
        "\n",
        "1.   List item\n",
        "2.   List item\n",
        "\n",
        "\n",
        "\n",
        "Replacing values above upper limit by upper limit itself &\n",
        "\n",
        "Replacing values below lower limit by lower limit"
      ],
      "metadata": {
        "id": "UYXNkLrFtfC7"
      }
    },
    {
      "cell_type": "code",
      "source": [
        "sns.boxplot(data['Price range'])"
      ],
      "metadata": {
        "colab": {
          "base_uri": "https://localhost:8080/",
          "height": 351
        },
        "id": "wmOIPD_6w9sZ",
        "outputId": "f6959cee-7e2a-4991-b8b4-75cbaf7c054f"
      },
      "execution_count": 28,
      "outputs": [
        {
          "output_type": "stream",
          "name": "stderr",
          "text": [
            "/usr/local/lib/python3.7/dist-packages/seaborn/_decorators.py:43: FutureWarning: Pass the following variable as a keyword arg: x. From version 0.12, the only valid positional argument will be `data`, and passing other arguments without an explicit keyword will result in an error or misinterpretation.\n",
            "  FutureWarning\n"
          ]
        },
        {
          "output_type": "execute_result",
          "data": {
            "text/plain": [
              "<matplotlib.axes._subplots.AxesSubplot at 0x7fa37005a8d0>"
            ]
          },
          "metadata": {},
          "execution_count": 28
        },
        {
          "output_type": "display_data",
          "data": {
            "text/plain": [
              "<Figure size 432x288 with 1 Axes>"
            ],
            "image/png": "[encoded data removed]"
          },
          "metadata": {
            "needs_background": "light"
          }
        }
      ]
    },
    {
      "cell_type": "code",
      "source": [
        "data['Price range'] = np.where(data['Price range'] > upper_limit, upper_limit, np.where(data['Price range'] < lower_limit,lower_limit, data['Price range']))"
      ],
      "metadata": {
        "id": "UoI3-CnVtclp"
      },
      "execution_count": 29,
      "outputs": []
    },
    {
      "cell_type": "code",
      "source": [
        "sns.boxplot(data['Price range'])"
      ],
      "metadata": {
        "colab": {
          "base_uri": "https://localhost:8080/",
          "height": 351
        },
        "id": "KrDLOojQwBRb",
        "outputId": "5005ca6d-3479-4605-c988-2ad7d82c1598"
      },
      "execution_count": 30,
      "outputs": [
        {
          "output_type": "stream",
          "name": "stderr",
          "text": [
            "/usr/local/lib/python3.7/dist-packages/seaborn/_decorators.py:43: FutureWarning: Pass the following variable as a keyword arg: x. From version 0.12, the only valid positional argument will be `data`, and passing other arguments without an explicit keyword will result in an error or misinterpretation.\n",
            "  FutureWarning\n"
          ]
        },
        {
          "output_type": "execute_result",
          "data": {
            "text/plain": [
              "<matplotlib.axes._subplots.AxesSubplot at 0x7fa37000fb50>"
            ]
          },
          "metadata": {},
          "execution_count": 30
        },
        {
          "output_type": "display_data",
          "data": {
            "text/plain": [
              "<Figure size 432x288 with 1 Axes>"
            ],
            "image/png": "[encoded data removed]"
          },
          "metadata": {
            "needs_background": "light"
          }
        }
      ]
    }
  ]
}