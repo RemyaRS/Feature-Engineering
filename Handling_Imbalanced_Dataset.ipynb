{
  "nbformat": 4,
  "nbformat_minor": 0,
  "metadata": {
    "colab": {
      "name": "Handling Imbalanced Dataset.ipynb",
      "provenance": [],
      "authorship_tag": "ABX9TyOcdlaUzlMyCtRophrsWdBY",
      "include_colab_link": true
    },
    "kernelspec": {
      "name": "python3",
      "display_name": "Python 3"
    },
    "language_info": {
      "name": "python"
    }
  },
  "cells": [
    {
      "cell_type": "markdown",
      "metadata": {
        "id": "view-in-github",
        "colab_type": "text"
      },
      "source": [
        "<a href=\"https://colab.research.google.com/github/RemyaRS/Feature-Engineering/blob/main/Handling_Imbalanced_Dataset.ipynb\" target=\"_parent\"><img src=\"https://colab.research.google.com/assets/colab-badge.svg\" alt=\"Open In Colab\"/></a>"
      ]
    },
    {
      "cell_type": "markdown",
      "source": [
        "# Importing Libraries"
      ],
      "metadata": {
        "id": "D0V3IQapmG6x"
      }
    },
    {
      "cell_type": "code",
      "execution_count": 1,
      "metadata": {
        "id": "xYqA40g5mG6z"
      },
      "outputs": [],
      "source": [
        "#for complex mathematical operations\n",
        "import numpy as np \n",
        "\n",
        "#for dataframe manipulation\n",
        "import pandas as pd"
      ]
    },
    {
      "cell_type": "markdown",
      "source": [
        "#Using google drive to import dataset"
      ],
      "metadata": {
        "id": "MIMbXMxaslE4"
      }
    },
    {
      "cell_type": "code",
      "source": [
        "from google.colab import drive\n",
        "drive.mount('/content/drive')"
      ],
      "metadata": {
        "colab": {
          "base_uri": "https://localhost:8080/"
        },
        "outputId": "a900dcf1-f25a-43a9-a30d-28d545a94cc0",
        "id": "FyLMu-GemG60"
      },
      "execution_count": 2,
      "outputs": [
        {
          "output_type": "stream",
          "name": "stdout",
          "text": [
            "Mounted at /content/drive\n"
          ]
        }
      ]
    },
    {
      "cell_type": "markdown",
      "source": [
        "# Uploading Dataset"
      ],
      "metadata": {
        "id": "b2G_m-mWWwIZ"
      }
    },
    {
      "cell_type": "code",
      "source": [
        "data = pd.read_csv('/content/drive/MyDrive/waterQuality1.csv')"
      ],
      "metadata": {
        "id": "IwOmB5lWxVV7"
      },
      "execution_count": 3,
      "outputs": []
    },
    {
      "cell_type": "markdown",
      "source": [
        "Source of dataset - https://www.kaggle.com/datasets/mssmartypants/water-quality?select=waterQuality1.csv\n",
        "\n",
        "Dataframe is a data structure having some rows and coloumns\n",
        "\n",
        "Coloumns of dataframe may have data of different datatypes\n",
        "\n",
        "Shape of dataset tells the number of rows and coloumns"
      ],
      "metadata": {
        "id": "zSB7K19uxvHI"
      }
    },
    {
      "cell_type": "code",
      "source": [
        "print(\"Shape of Dataset:\" , data.shape)"
      ],
      "metadata": {
        "colab": {
          "base_uri": "https://localhost:8080/"
        },
        "id": "rToeHuJsxxKX",
        "outputId": "916841f4-f8a4-4bf7-9fd1-e3e3dcbf9aba"
      },
      "execution_count": 4,
      "outputs": [
        {
          "output_type": "stream",
          "name": "stdout",
          "text": [
            "Shape of Dataset: (7999, 21)\n"
          ]
        }
      ]
    },
    {
      "cell_type": "code",
      "source": [
        "data['is_safe'].value_counts()"
      ],
      "metadata": {
        "colab": {
          "base_uri": "https://localhost:8080/"
        },
        "id": "U8pLNjzHyeZh",
        "outputId": "20f08267-2eac-4f4e-f735-ac02dbff2c9d"
      },
      "execution_count": 5,
      "outputs": [
        {
          "output_type": "execute_result",
          "data": {
            "text/plain": [
              "0        7084\n",
              "1         912\n",
              "#NUM!       3\n",
              "Name: is_safe, dtype: int64"
            ]
          },
          "metadata": {},
          "execution_count": 5
        }
      ]
    },
    {
      "cell_type": "markdown",
      "source": [
        "Deleting noisy data"
      ],
      "metadata": {
        "id": "JTYa_UOLKLy9"
      }
    },
    {
      "cell_type": "code",
      "source": [
        "data.isnull().sum()#To check missing values"
      ],
      "metadata": {
        "id": "CXJzIEo8lRYU",
        "outputId": "e81919fd-0b10-43d7-a979-c476800ee4e7",
        "colab": {
          "base_uri": "https://localhost:8080/"
        }
      },
      "execution_count": 6,
      "outputs": [
        {
          "output_type": "execute_result",
          "data": {
            "text/plain": [
              "aluminium      0\n",
              "ammonia        0\n",
              "arsenic        0\n",
              "barium         0\n",
              "cadmium        0\n",
              "chloramine     0\n",
              "chromium       0\n",
              "copper         0\n",
              "flouride       0\n",
              "bacteria       0\n",
              "viruses        0\n",
              "lead           0\n",
              "nitrates       0\n",
              "nitrites       0\n",
              "mercury        0\n",
              "perchlorate    0\n",
              "radium         0\n",
              "selenium       0\n",
              "silver         0\n",
              "uranium        0\n",
              "is_safe        0\n",
              "dtype: int64"
            ]
          },
          "metadata": {},
          "execution_count": 6
        }
      ]
    },
    {
      "cell_type": "code",
      "source": [
        "data=data[data.aluminium != '#NUM!']\n",
        "data=data[data.ammonia != '#NUM!']\n",
        "data=data[data.arsenic != '#NUM!']\n",
        "data=data[data.barium != '#NUM!']\n",
        "data=data[data.cadmium != '#NUM!']\n",
        "data=data[data.chloramine != '#NUM!']\n",
        "data=data[data.chromium != '#NUM!']\n",
        "data=data[data.copper != '#NUM!']\n",
        "data=data[data.flouride != '#NUM!']\n",
        "data=data[data.bacteria != '#NUM!']\n",
        "data=data[data.viruses != '#NUM!']\n",
        "data=data[data.lead != '#NUM!']\n",
        "data=data[data.nitrates\t != '#NUM!']\n",
        "data=data[data.nitrites != '#NUM!']\n",
        "data=data[data.mercury != '#NUM!']\n",
        "data=data[data.perchlorate != '#NUM!']\n",
        "data=data[data.radium != '#NUM!']\n",
        "data=data[data.selenium != '#NUM!']\n",
        "data=data[data.silver != '#NUM!']\n",
        "data=data[data.uranium != '#NUM!']\n",
        "data=data[data.is_safe != '#NUM!']"
      ],
      "metadata": {
        "id": "cPIJMj_NI5ll"
      },
      "execution_count": 7,
      "outputs": []
    },
    {
      "cell_type": "code",
      "source": [
        "data['is_safe'].value_counts()"
      ],
      "metadata": {
        "colab": {
          "base_uri": "https://localhost:8080/"
        },
        "id": "GAiSTXzKjamp",
        "outputId": "7e2931dc-4452-44d5-d584-b09c15c5d3dd"
      },
      "execution_count": 8,
      "outputs": [
        {
          "output_type": "execute_result",
          "data": {
            "text/plain": [
              "0    7084\n",
              "1     912\n",
              "Name: is_safe, dtype: int64"
            ]
          },
          "metadata": {},
          "execution_count": 8
        }
      ]
    },
    {
      "cell_type": "markdown",
      "source": [
        "##Downsampling"
      ],
      "metadata": {
        "id": "usiKCC3xKS_H"
      }
    },
    {
      "cell_type": "code",
      "source": [
        "data_majority = data[data.is_safe=='0']\n",
        "data_minority = data[data.is_safe=='1']"
      ],
      "metadata": {
        "id": "_5t8arguOOpk"
      },
      "execution_count": 9,
      "outputs": []
    },
    {
      "cell_type": "code",
      "source": [
        "from sklearn.utils import resample"
      ],
      "metadata": {
        "id": "6tHhA2VIOQi-"
      },
      "execution_count": 10,
      "outputs": []
    },
    {
      "cell_type": "code",
      "source": [
        "data_majority_downsampled = resample(data_majority, replace=False, n_samples=len(data_minority), random_state=1234)\n",
        "# Combine minority class with downsampled majority class\n",
        "data_downsampled = pd.concat([data_majority_downsampled, data_minority])"
      ],
      "metadata": {
        "id": "SmKkwirnODXa"
      },
      "execution_count": 11,
      "outputs": []
    },
    {
      "cell_type": "code",
      "source": [
        "data_downsampled['is_safe'].value_counts()"
      ],
      "metadata": {
        "colab": {
          "base_uri": "https://localhost:8080/"
        },
        "id": "jacuQ25ojd9R",
        "outputId": "7a6e5173-6a47-4704-e264-22ba96b03d28"
      },
      "execution_count": 12,
      "outputs": [
        {
          "output_type": "execute_result",
          "data": {
            "text/plain": [
              "0    912\n",
              "1    912\n",
              "Name: is_safe, dtype: int64"
            ]
          },
          "metadata": {},
          "execution_count": 12
        }
      ]
    },
    {
      "cell_type": "markdown",
      "source": [
        "##Upsampling"
      ],
      "metadata": {
        "id": "3MIWTjRVkzxH"
      }
    },
    {
      "cell_type": "code",
      "source": [
        "data_minority_upsampled = resample(data_minority, replace=True, n_samples=len(data_majority), random_state=1234)\n",
        "# Combine minority class with downsampled majority class\n",
        "data_upsampled = pd.concat([data_minority_upsampled, data_majority])"
      ],
      "metadata": {
        "id": "mLgqMjWqU-5e"
      },
      "execution_count": 13,
      "outputs": []
    },
    {
      "cell_type": "code",
      "source": [
        "data_upsampled['is_safe'].value_counts()"
      ],
      "metadata": {
        "colab": {
          "base_uri": "https://localhost:8080/"
        },
        "id": "kwj0O2eJj8ew",
        "outputId": "86a19543-3775-4421-9752-fcaa086853ef"
      },
      "execution_count": 14,
      "outputs": [
        {
          "output_type": "execute_result",
          "data": {
            "text/plain": [
              "1    7084\n",
              "0    7084\n",
              "Name: is_safe, dtype: int64"
            ]
          },
          "metadata": {},
          "execution_count": 14
        }
      ]
    }
  ]
}